{
 "metadata": {
  "name": ""
 },
 "nbformat": 3,
 "nbformat_minor": 0,
 "worksheets": [
  {
   "cells": [
    {
     "cell_type": "code",
     "collapsed": false,
     "input": [
      "import csv\n",
      "from pylab import *\n",
      "f = open('cig.csv', 'rb')\n",
      "reader = csv.reader(f)\n",
      "rownum = 0\n",
      "x=[]\n",
      "y=[]\n",
      "\n",
      "\n",
      "for row in reader:\n",
      "    s= row[0]\n",
      "    s= s.replace(\"\\t\", \" \")\n",
      "    s= s.split()\n",
      "    s= s[1:]\n",
      "    s= map(float,s)\n",
      "    #print s\n",
      "    x.append(s[1])\n",
      "    y.append(s[2])\n",
      "    rownum += 1\n",
      "print x\n",
      "print y\n",
      "    \n",
      "f.close()\n",
      "\n"
     ],
     "language": "python",
     "metadata": {},
     "outputs": [
      {
       "output_type": "stream",
       "stream": "stdout",
       "text": [
        "[0.86, 1.06, 2.03, 0.67, 0.4, 1.04, 0.76, 0.95, 1.12, 1.02, 1.01, 0.9, 0.57, 0.78, 0.74, 0.13, 1.26, 1.08, 0.96, 0.42, 1.01, 0.61, 0.69, 1.02, 0.82]\n",
        "[0.9853, 1.0938, 1.165, 0.928, 0.9462, 0.8885, 1.0267, 0.9225, 0.9372, 0.8858, 0.9643, 0.9316, 0.9705, 1.124, 0.8517, 0.7851, 0.9186, 1.0395, 0.9573, 0.9106, 1.007, 0.9806, 0.9693, 0.9496, 1.1184]\n"
       ]
      }
     ],
     "prompt_number": 7
    },
    {
     "cell_type": "code",
     "collapsed": false,
     "input": [
      "\n",
      "\n"
     ],
     "language": "python",
     "metadata": {},
     "outputs": []
    }
   ],
   "metadata": {}
  }
 ]
}